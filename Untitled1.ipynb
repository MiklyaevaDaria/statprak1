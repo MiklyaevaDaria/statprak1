{
  "nbformat": 4,
  "nbformat_minor": 0,
  "metadata": {
    "colab": {
      "provenance": []
    },
    "kernelspec": {
      "name": "python3",
      "display_name": "Python 3"
    },
    "language_info": {
      "name": "python"
    }
  },
  "cells": [
    {
      "cell_type": "code",
      "execution_count": 1,
      "metadata": {
        "id": "RGn0IzQOL427"
      },
      "outputs": [],
      "source": [
        "import pandas as pd\n",
        "import numpy as np\n",
        "from statsmodels.stats.proportion import proportions_ztest\n",
        "\n",
        "chat_id = 819168380\n",
        "\n",
        "def solution(x_success: int,\n",
        "             x_cnt: int,\n",
        "             y_success: int,\n",
        "             y_cnt: int) -> bool:\n",
        "  count = np.array([x_success, y_success])\n",
        "  nobs = np.array([x_cnt, y_cnt])\n",
        "  zstat, p_value = proportions_ztest(count, nobs, alternative='larger')\n",
        "  return p_value < 0.04\n"
      ]
    }
  ]
}